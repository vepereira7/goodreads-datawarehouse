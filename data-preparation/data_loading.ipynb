{
 "cells": [
  {
   "cell_type": "code",
   "execution_count": 1,
   "metadata": {},
   "outputs": [],
   "source": [
    "import pandas as pd\n",
    "import numpy as np\n",
    "from datetime import datetime\n",
    "import pandas.io.sql as sqlio\n",
    "import psycopg2"
   ]
  },
  {
   "attachments": {},
   "cell_type": "markdown",
   "metadata": {},
   "source": [
    "# Goodreads Data Warehouse"
   ]
  },
  {
   "attachments": {},
   "cell_type": "markdown",
   "metadata": {},
   "source": [
    "## Connection to database"
   ]
  },
  {
   "cell_type": "code",
   "execution_count": 2,
   "metadata": {},
   "outputs": [
    {
     "name": "stdout",
     "output_type": "stream",
     "text": [
      "Connection Sucessfully!\n"
     ]
    }
   ],
   "source": [
    "## connect to database\n",
    "con = psycopg2.connect(\n",
    "    database=\"fced_paulo_portela\",             # your database is the same as your username\n",
    "    user=\"fced_paulo_portela\",                 # your username\n",
    "    password=\"!Pnp2186tenis\",             # your password\n",
    "    host=\"dbm.fe.up.pt\",\n",
    "    port=\"5433\",             # the database host\n",
    "    options='-c search_path=ad_goodreads'  # use the schema you want to connect to\n",
    ")\n",
    "print('Connection Sucessfully!')"
   ]
  },
  {
   "attachments": {},
   "cell_type": "markdown",
   "metadata": {},
   "source": [
    "## Dimensions"
   ]
  },
  {
   "cell_type": "code",
   "execution_count": 4,
   "metadata": {},
   "outputs": [
    {
     "name": "stdout",
     "output_type": "stream",
     "text": [
      "Table authors created successfully\n"
     ]
    }
   ],
   "source": [
    "# Create table authors and insert data\n",
    "with open('../Files to load data into SQL/authors.sql', 'r') as file:\n",
    "    sql = file.read()\n",
    "\n",
    "cur = con.cursor()\n",
    "cur.execute(sql)\n",
    "con.commit()\n",
    "print('Table to_read created successfully')"
   ]
  },
  {
   "cell_type": "code",
   "execution_count": 5,
   "metadata": {},
   "outputs": [
    {
     "name": "stdout",
     "output_type": "stream",
     "text": [
      "Table books created successfully\n"
     ]
    }
   ],
   "source": [
    "# Create table books and insert data\n",
    "with open('../Files to load data into SQL/books.sql', 'r') as file:\n",
    "    sql = file.read()\n",
    "\n",
    "cur = con.cursor()\n",
    "cur.execute(sql)\n",
    "con.commit()\n",
    "print('Table books created successfully')"
   ]
  },
  {
   "cell_type": "code",
   "execution_count": 6,
   "metadata": {},
   "outputs": [
    {
     "name": "stdout",
     "output_type": "stream",
     "text": [
      "Table users created successfully\n"
     ]
    }
   ],
   "source": [
    "# Create table users and insert data\n",
    "with open('../Files to load data into SQL/users.sql', 'r') as file:\n",
    "    sql = file.read()\n",
    "\n",
    "cur = con.cursor()\n",
    "cur.execute(sql)\n",
    "con.commit()\n",
    "print('Table users created successfully')"
   ]
  },
  {
   "cell_type": "code",
   "execution_count": 7,
   "metadata": {},
   "outputs": [
    {
     "name": "stdout",
     "output_type": "stream",
     "text": [
      "Table tags created successfully\n"
     ]
    }
   ],
   "source": [
    "# Create table tags and insert data\n",
    "with open('../Files to load data into SQL/tags.sql', 'r') as file:\n",
    "    sql = file.read()\n",
    "\n",
    "cur = con.cursor()\n",
    "cur.execute(sql)\n",
    "con.commit()\n",
    "print('Table tags created successfully')"
   ]
  },
  {
   "cell_type": "code",
   "execution_count": 8,
   "metadata": {},
   "outputs": [
    {
     "name": "stdout",
     "output_type": "stream",
     "text": [
      "Table time created successfully\n"
     ]
    }
   ],
   "source": [
    "# Create table time and insert data\n",
    "with open('../Files to load data into SQL/time.sql', 'r') as file:\n",
    "    sql = file.read()\n",
    "\n",
    "cur = con.cursor()\n",
    "cur.execute(sql)\n",
    "con.commit()\n",
    "print('Table time created successfully')"
   ]
  },
  {
   "attachments": {},
   "cell_type": "markdown",
   "metadata": {},
   "source": [
    "## Fact Tables"
   ]
  },
  {
   "cell_type": "code",
   "execution_count": 5,
   "metadata": {},
   "outputs": [
    {
     "name": "stdout",
     "output_type": "stream",
     "text": [
      "Table to_read created successfully\n"
     ]
    }
   ],
   "source": [
    "# Create table to_read and insert data\n",
    "with open('../Files to load data into SQL/to_read.sql', 'r') as file:\n",
    "    sql = file.read()\n",
    "\n",
    "cur = con.cursor()\n",
    "cur.execute(sql)\n",
    "con.commit()\n",
    "print('Table to_read created successfully')\n"
   ]
  },
  {
   "cell_type": "code",
   "execution_count": 6,
   "metadata": {},
   "outputs": [
    {
     "name": "stdout",
     "output_type": "stream",
     "text": [
      "Table book_tags created successfully\n"
     ]
    }
   ],
   "source": [
    "# Create table book_tags and insert data\n",
    "with open('../Files to load data into SQL/book_tags.sql', 'r') as file:\n",
    "    sql = file.read()\n",
    "\n",
    "cur = con.cursor()\n",
    "cur.execute(sql)\n",
    "con.commit()\n",
    "print('Table book_tags created successfully')"
   ]
  },
  {
   "cell_type": "code",
   "execution_count": 3,
   "metadata": {},
   "outputs": [
    {
     "name": "stdout",
     "output_type": "stream",
     "text": [
      "Table satistics_rating created successfully\n"
     ]
    }
   ],
   "source": [
    "# Create table statistics_rating and insert data\n",
    "with open('../Files to load data into SQL/statistics_rating.sql', 'r') as file:\n",
    "    sql = file.read()\n",
    "\n",
    "cur = con.cursor()\n",
    "cur.execute(sql)\n",
    "con.commit()\n",
    "print('Table satistics_rating created successfully')"
   ]
  },
  {
   "cell_type": "code",
   "execution_count": 14,
   "metadata": {},
   "outputs": [
    {
     "name": "stdout",
     "output_type": "stream",
     "text": [
      "Table ratings created successfully\n"
     ]
    }
   ],
   "source": [
    "# Create table ratings and insert data -  you must switch between all files from 0-5 to upload all the data\n",
    "with open('../Files to load data into SQL/ratings_5.sql', 'r') as file:\n",
    "    sql = file.read()\n",
    "\n",
    "cur = con.cursor()\n",
    "cur.execute(sql)\n",
    "con.commit()\n",
    "print('Table ratings created successfully')"
   ]
  },
  {
   "cell_type": "code",
   "execution_count": 7,
   "metadata": {},
   "outputs": [],
   "source": [
    "import os\n",
    "\n",
    "# Open the SQL file for reading\n",
    "with open('../Files to load data into SQL/ratings.sql', 'r') as sql_file:\n",
    "    # Read the contents of the file into a string variable\n",
    "    sql_contents = sql_file.read()\n",
    "\n",
    "# Calculate the size of each chunk\n",
    "chunk_size = len(sql_contents) // 6\n",
    "\n",
    "# Split the SQL string into 6 equal parts\n",
    "sql_chunks = [sql_contents[i:i+chunk_size] for i in range(0, len(sql_contents), chunk_size)]\n",
    "\n",
    "# Create six output files and write each chunk to a separate file\n",
    "for i in range(6):\n",
    "    # Create a file with a unique name\n",
    "    filename = f\"ratings_{i}.sql\"\n",
    "    with open(filename, 'w') as outfile:\n",
    "        # Write the current chunk to the file\n",
    "        outfile.write(sql_chunks[i])\n"
   ]
  }
 ],
 "metadata": {
  "kernelspec": {
   "display_name": "Python 3.9.12 ('base')",
   "language": "python",
   "name": "python3"
  },
  "language_info": {
   "codemirror_mode": {
    "name": "ipython",
    "version": 3
   },
   "file_extension": ".py",
   "mimetype": "text/x-python",
   "name": "python",
   "nbconvert_exporter": "python",
   "pygments_lexer": "ipython3",
   "version": "3.9.12"
  },
  "orig_nbformat": 4,
  "vscode": {
   "interpreter": {
    "hash": "40d3a090f54c6569ab1632332b64b2c03c39dcf918b08424e98f38b5ae0af88f"
   }
  }
 },
 "nbformat": 4,
 "nbformat_minor": 2
}
